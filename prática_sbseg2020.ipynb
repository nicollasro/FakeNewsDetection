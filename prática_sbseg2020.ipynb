{
  "nbformat": 4,
  "nbformat_minor": 0,
  "metadata": {
    "colab": {
      "name": "prática_sbseg2020.ipynb",
      "provenance": [],
      "collapsed_sections": []
    },
    "kernelspec": {
      "name": "python3",
      "display_name": "Python 3"
    }
  },
  "cells": [
    {
      "cell_type": "code",
      "metadata": {
        "id": "ZxQUAgb00zH6",
        "outputId": "887bfb20-2ecb-440d-fab8-80703d8d7be1",
        "colab": {
          "base_uri": "https://localhost:8080/",
          "height": 34
        }
      },
      "source": [
        "from google.colab import drive\n",
        "drive.mount('/content/drive')"
      ],
      "execution_count": null,
      "outputs": [
        {
          "output_type": "stream",
          "text": [
            "Mounted at /content/drive\n"
          ],
          "name": "stdout"
        }
      ]
    },
    {
      "cell_type": "code",
      "metadata": {
        "id": "If2tq_rh2OjL"
      },
      "source": [
        "import pandas as pd\n",
        "df = pd.read_csv('/content/drive/My Drive/FakeNews-Dataset/full_database.csv')"
      ],
      "execution_count": null,
      "outputs": []
    },
    {
      "cell_type": "code",
      "metadata": {
        "id": "FCl1vrW33nhH",
        "outputId": "5ae1de12-70b2-4bf7-db3e-01a494292298",
        "colab": {
          "base_uri": "https://localhost:8080/",
          "height": 121
        }
      },
      "source": [
        "#!pip install fuzzywuzzy\n",
        "#!pip install tweepy\n",
        "import os\n",
        "import nltk\n",
        "nltk.download('rslp')\n",
        "nltk.download('stopwords')\n",
        "nltk.download('punkt')\n",
        "import tweepy\n",
        "import string\n",
        "import pandas as pd\n",
        "import numpy as np\n",
        "import matplotlib.pyplot as plt\n",
        "from fuzzywuzzy import fuzz\n",
        "from time import time, sleep\n",
        "from nltk.corpus import stopwords \n",
        "from sklearn.svm import OneClassSVM\n",
        "from nltk.tokenize import word_tokenize\n",
        "from sklearn.metrics import accuracy_score, confusion_matrix, f1_score, precision_score,recall_score,roc_curve, auc,roc_auc_score\n",
        "from sklearn.model_selection import train_test_split\n",
        "from sklearn.feature_extraction.text import TfidfVectorizer,CountVectorizer\n",
        "from sklearn.decomposition import TruncatedSVD\n",
        "from sklearn.cluster import KMeans\n",
        "from sklearn.preprocessing import normalize\n",
        "from scipy.stats import ttest_1samp,ttest_ind, ttest_rel, norm"
      ],
      "execution_count": null,
      "outputs": [
        {
          "output_type": "stream",
          "text": [
            "[nltk_data] Downloading package rslp to /root/nltk_data...\n",
            "[nltk_data]   Package rslp is already up-to-date!\n",
            "[nltk_data] Downloading package stopwords to /root/nltk_data...\n",
            "[nltk_data]   Package stopwords is already up-to-date!\n",
            "[nltk_data] Downloading package punkt to /root/nltk_data...\n",
            "[nltk_data]   Package punkt is already up-to-date!\n"
          ],
          "name": "stdout"
        }
      ]
    },
    {
      "cell_type": "code",
      "metadata": {
        "id": "tXpJLqn37QZS"
      },
      "source": [
        "def web_scrapping():\n",
        "  consumer_key = 'A0iOlLQR7YE2Pp0AtCsug5X9y'\n",
        "  consumer_secret = 'boQx4ohmC1N0dpElF9qNwnis0qmuEVgix1xTSCy1TbLzjjeIDy'\n",
        "  access_key= '1173637793379160067-KnsE82lVbhpaFZwFs3TGxWcwuaPEdy'\n",
        "  access_secret = 'alHVYz6EJuspq3SCCbphq8y2i929WkkfCvjttQbFsEr0N'\n",
        "  auth = tweepy.OAuthHandler(consumer_key, consumer_secret)\n",
        "  auth.set_access_token(access_key, access_secret)\n",
        "  api = tweepy.API(auth)\n",
        "  \n",
        "  account = '@Boatosorg'\n",
        "  file_path =\"boatos.csv\"\n",
        "  batch=10\n",
        "  \n",
        "  df = pd.DataFrame(columns=['id', 'created_at', 'source','user','full_text'])\n",
        "  for status in tweepy.Cursor(api.user_timeline, screen_name=account, include_rts=False, lang=\"pt\", tweet_mode=\"extended\").items(batch):\n",
        "    status = status._json\n",
        "    #print (status.keys())\n",
        "    new_entry = []\n",
        "    new_entry += [status['id'], status['created_at'],status['source'],status['user']['screen_name'], status['full_text']]\n",
        "    \n",
        "    single_tweet_df = pd.DataFrame([new_entry],columns=df.columns)\n",
        "    df = pd.concat([df, single_tweet_df])\n",
        "  return df"
      ],
      "execution_count": null,
      "outputs": []
    },
    {
      "cell_type": "code",
      "metadata": {
        "id": "9FrSXZis8kTx"
      },
      "source": [
        "def check_limits():\n",
        "  consumer_key = 'A0iOlLQR7YE2Pp0AtCsug5X9y'\n",
        "  consumer_secret = 'boQx4ohmC1N0dpElF9qNwnis0qmuEVgix1xTSCy1TbLzjjeIDy'\n",
        "  access_key= '1173637793379160067-KnsE82lVbhpaFZwFs3TGxWcwuaPEdy'\n",
        "  access_secret = 'alHVYz6EJuspq3SCCbphq8y2i929WkkfCvjttQbFsEr0N'\n",
        "  auth = tweepy.OAuthHandler(consumer_key, consumer_secret)\n",
        "  auth.set_access_token(access_key, access_secret)\n",
        "  api = tweepy.API(auth)\n",
        "  limits=api.rate_limit_status()\n",
        "  for i in limits['resources'].keys():\n",
        "    for k in limits['resources'][i].keys(): \n",
        "      if limits['resources'][i][k]['limit']!=limits['resources'][i][k]['remaining']:\n",
        "        reset_time=float(limits['resources'][i][k]['reset'])-time()\n",
        "        remain=int(limits['resources'][i][k]['limit'])-int(limits['resources'][i][k]['remaining'])\n",
        "        max_limit=limits['resources'][i][k]['limit']\n",
        "        print('---- Status com Limite Modificado---------')\n",
        "        print (limits['resources'][i])\n",
        "        print(\"Falta \"+str(reset_time/60)+' min para o próximo reset')\n",
        "        print('Capacidade comprometida '+str(int(remain)/int(max_limit)))"
      ],
      "execution_count": null,
      "outputs": []
    },
    {
      "cell_type": "code",
      "metadata": {
        "id": "3NEuSDI4-Maz"
      },
      "source": [
        "def remove_punctuation(word):\n",
        "\n",
        "\tword = word.replace('-via', '')\n",
        "\tword = word.replace('(via', '')\n",
        "\tword = word.replace('gt', '')\n",
        "\tfor ch in string.punctuation:\n",
        "\t\tword = word.replace(ch, \"\")\n",
        "\tif(len(word) < 2 or word.isdigit()):\n",
        "\t\treturn \"\"\n",
        "\treturn word\n",
        "\n",
        "def similarity(word, names):\n",
        "\n",
        "\ttry:\n",
        "\t\tfor w in names[word[0]]:\n",
        "\t\t\tif(fuzz.ratio(w, word) > 80):\n",
        "\t\t\t\treturn True\n",
        "\texcept KeyError:\n",
        "\t\tpass\n",
        "\treturn False\n",
        "\n",
        "def get_name_dict():\n",
        "\n",
        "\tnames = open('/content/drive/My Drive/FakeNews-Dataset/names.txt', encoding=\"utf-8\")\n",
        "\tnames_lines = names.readlines()\n",
        "\tnames_dict = {}\n",
        "\tfor lines in names_lines:\n",
        "\t\tline = lines.replace('\\n','').lower()\n",
        "\t\tif line[0] not in names_dict: names_dict[line[0]] = []\n",
        "\t\tnames_dict[line[0]].append(line)\n",
        "\treturn names_dict\n",
        "\n",
        "def natural_language_processing(df):\n",
        "  stemmer = nltk.stem.RSLPStemmer()\n",
        "  stop_words = set(stopwords.words('portuguese'))\n",
        "  names_dict=get_name_dict()\n",
        "  \n",
        "  df.loc[df[\"user\"] == \"Boatosorg\", \"label\"] = -1\n",
        "  df.loc[df[\"user\"] != \"Boatosorg\", \"label\"] = 1 \n",
        "  #print (df.shape)\n",
        "  #df = df.head(2000)\n",
        "  df[\"clean_text\"] = df[\"full_text\"].str.lower()\n",
        "  df[\"clean_text\"] = df[\"clean_text\"].apply(lambda x:' '.join(remove_punctuation(word) for word in word_tokenize(str(x))))\n",
        "  df[\"clean_text\"] = df[\"clean_text\"].apply(lambda x:' '.join(word for word in word_tokenize(x) if word not in stop_words))\n",
        "  df[\"clean_text\"] = df[\"clean_text\"].apply(lambda x:' '.join(stemmer.stem(word) for word in word_tokenize(x) if not similarity(word, names_dict)))\n",
        "  print(df)\n",
        "  "
      ],
      "execution_count": null,
      "outputs": []
    },
    {
      "cell_type": "code",
      "metadata": {
        "id": "s4tkQulJ_gRe"
      },
      "source": [
        "df=web_scrapping()\n",
        "natural_language_processing(df)"
      ],
      "execution_count": null,
      "outputs": []
    },
    {
      "cell_type": "code",
      "metadata": {
        "id": "PzAYIG-kCWBP",
        "outputId": "5e0f56d5-e11f-4954-a398-7281ae75a299",
        "colab": {
          "base_uri": "https://localhost:8080/",
          "height": 72
        }
      },
      "source": [
        "df = pd.read_csv('/content/drive/My Drive/FakeNews-Dataset/full_database.csv')\n",
        "df=df.head(10000)\n",
        "tfidf_vectorizer = TfidfVectorizer(ngram_range=(1,1))\n",
        "tfidf_matrix=tfidf_vectorizer.fit_transform(df[\"clean_text\"].values.astype('U'))"
      ],
      "execution_count": null,
      "outputs": [
        {
          "output_type": "stream",
          "text": [
            "/usr/local/lib/python3.6/dist-packages/IPython/core/interactiveshell.py:2718: DtypeWarning: Columns (0,6,7,9,10,12) have mixed types.Specify dtype option on import or set low_memory=False.\n",
            "  interactivity=interactivity, compiler=compiler, result=result)\n"
          ],
          "name": "stderr"
        }
      ]
    },
    {
      "cell_type": "code",
      "metadata": {
        "id": "fJmMPO--DHds"
      },
      "source": [
        "svd = TruncatedSVD(n_components=2000)\n",
        "tfidf_lsa = svd.fit_transform(tfidf_matrix)\n",
        "tfidf_lsa=normalize(tfidf_lsa.T)\n",
        "tfidf_lsa=tfidf_lsa.T"
      ],
      "execution_count": null,
      "outputs": []
    },
    {
      "cell_type": "code",
      "metadata": {
        "id": "UdVw3Zu4DgX4",
        "outputId": "41ae1ed5-f0bb-4417-ccf7-f48aeaf0a255",
        "colab": {
          "base_uri": "https://localhost:8080/",
          "height": 69
        }
      },
      "source": [
        "print(\"OneClassSVM...\")\n",
        "df_x = pd.DataFrame(tfidf_lsa[0:,0:])\n",
        "X_train, X_test, y_train, y_test = train_test_split(df_x, df['probability'][0:], test_size=0.1)\n",
        "train_normal=X_train.loc[df[\"probability\"] == 1]\n",
        "train_outliers = X_train.loc[df[\"probability\"] == -1]\n",
        "outlier_prop = len(train_outliers)/len(df_x)\n",
        "\n",
        "gama=0.01\n",
        "ker='linear'\n",
        "print ('gama:'+ str(gama))\n",
        "print ('kernel:'+ str(ker))"
      ],
      "execution_count": null,
      "outputs": [
        {
          "output_type": "stream",
          "text": [
            "OneClassSVM...\n",
            "gama:0.01\n",
            "kernel:linear\n"
          ],
          "name": "stdout"
        }
      ]
    },
    {
      "cell_type": "code",
      "metadata": {
        "id": "L4_sKGA2Dx6T"
      },
      "source": [
        "clf = OneClassSVM(nu=outlier_prop, kernel=ker,gamma=gama, degree=5)\n",
        "clf.fit(train_normal)\n",
        "y_pred = clf.predict(X_test)"
      ],
      "execution_count": null,
      "outputs": []
    },
    {
      "cell_type": "code",
      "metadata": {
        "id": "R0B2RZTnEUQK",
        "outputId": "ebf12383-1cd0-4d2c-eb70-12c308df15c9",
        "colab": {
          "base_uri": "https://localhost:8080/",
          "height": 1000
        }
      },
      "source": [
        "probabilidades=[]\n",
        "true=[]\n",
        "\n",
        "probabilidades = max(clf.decision_function(X_test)) - clf.decision_function(X_test)\n",
        "for i in range(len(probabilidades)):probabilidades[i]=1-probabilidades[i]\n",
        "print(probabilidades)\n",
        "fpr, tpr, thresholds = roc_curve(y_test, probabilidades)\n",
        "roc_auc = auc(fpr, tpr)\n",
        "g=plt.figure(3)\n",
        "plt.rcParams['axes.labelsize']= 16\n",
        "plt.plot(fpr, tpr, label='ROC (Área = %0.2f)' % roc_auc,color='green')\n",
        "plt.legend(loc = 'lower right')\n",
        "plt.plot([0, 1], [0, 1],'b--')\n",
        "plt.xlim([0, 1])\n",
        "plt.ylim([0, 1])\n",
        "plt.ylabel('Taxa de Verdadeiros Positivos')\n",
        "plt.xlabel('Taxa de Falsos Positivos')\n",
        "plt.grid(True)\n",
        "plt.show()\n",
        "\n",
        "print (\"Acurácia: \" + str(accuracy_score(y_test,y_pred)))\n",
        "print (\"Recall: \" + str(recall_score(y_test,y_pred,average=None,)))\n",
        "print (\"Precisão: \" + str(precision_score(y_test,y_pred,average=None)))\n",
        "print (\"F1-Score: \" + str(f1_score(y_test,y_pred)))"
      ],
      "execution_count": null,
      "outputs": [
        {
          "output_type": "stream",
          "text": [
            "[0.7959909  0.80872856 0.83599285 0.82291291 0.61401268 0.75891456\n",
            " 0.80812432 0.85350148 0.80907317 0.65727602 0.76272712 0.80767643\n",
            " 0.7992678  0.76252912 0.75623817 0.93284643 0.58931752 0.61655355\n",
            " 0.84710305 0.85110222 0.78270552 0.62771632 0.84964877 0.58964563\n",
            " 0.92047643 0.84776332 0.8779943  1.         0.74978668 0.69158246\n",
            " 0.79396236 0.82776597 0.84189709 0.79720044 0.60087879 0.82624192\n",
            " 0.81278331 0.80883542 0.69095273 0.62660384 0.82572314 0.55512948\n",
            " 0.93471045 0.80684601 0.81242626 0.8399686  0.88493852 0.79293153\n",
            " 0.62875977 0.77640594 0.80926936 0.73463605 0.84420366 0.70661464\n",
            " 0.76319801 0.8092055  0.84148745 0.81416816 0.71473252 0.82739801\n",
            " 0.76782361 0.75490229 0.80865424 0.77669008 0.81918218 0.80878283\n",
            " 0.78558459 0.90082132 0.9179129  0.60230357 0.78524981 0.85775775\n",
            " 0.61758411 0.84551251 0.65197736 0.78757804 0.80924904 0.67541066\n",
            " 0.70892603 0.69676068 0.80875319 0.7924959  0.71831181 0.84243955\n",
            " 0.87297101 0.83669226 0.69277757 0.82830969 0.71089073 0.75338616\n",
            " 0.75665302 0.80627123 0.78348149 0.8086708  0.85388942 0.781997\n",
            " 0.80619106 0.87164858 0.77661391 0.82343292 0.80907713 0.80902526\n",
            " 0.79334591 0.58449076 0.63089445 0.7093554  0.8654258  0.76608558\n",
            " 0.80872856 0.83405543 0.8089399  0.63199008 0.65121569 0.81798041\n",
            " 0.67752617 0.63808822 0.67797085 0.8086279  0.52689515 0.58927753\n",
            " 0.87927664 0.90890218 0.79301343 0.85337737 0.80897962 0.80868579\n",
            " 0.66977788 0.73338779 0.62624785 0.76746187 0.90202367 0.68302278\n",
            " 0.88970568 0.90202367 0.8053656  0.65168068 0.88250827 0.84493652\n",
            " 0.66471024 0.65455567 0.60839883 0.80907537 0.83818578 0.81749297\n",
            " 0.8386928  0.80904967 0.76251096 0.75304739 0.58659957 0.68699973\n",
            " 0.80870552 0.79498642 0.79112143 0.83524246 0.86527087 0.81939471\n",
            " 0.83125637 0.79782722 0.62695467 0.81907295 0.89419058 0.72745585\n",
            " 0.83164066 0.67742418 0.76288184 0.56990026 0.80156044 0.81145458\n",
            " 0.76326862 0.69206703 0.81944558 0.95405458 0.83215023 0.83004862\n",
            " 0.73092606 0.71624576 0.7909386  0.61936675 0.8089123  0.80853805\n",
            " 0.6292564  0.88909533 0.9028886  0.61222    0.83037967 0.80919613\n",
            " 0.62273609 0.82830969 0.81213504 0.7143028  0.74392259 0.84017707\n",
            " 0.74442148 0.80856053 0.80333001 0.8090303  0.94658911 0.88103229\n",
            " 0.80893201 0.69796333 0.81607211 0.71800673 0.80905683 0.8445374\n",
            " 0.62661586 0.64610215 0.80853123 0.84583169 0.64732977 0.80891677\n",
            " 0.76381508 0.80157588 0.87575932 0.81304309 0.75860054 0.81646112\n",
            " 0.81451272 0.81277802 0.72612019 0.66368323 0.7033962  0.80619639\n",
            " 0.66801048 0.80894499 0.65568466 0.80507787 0.76962725 0.6007441\n",
            " 0.819132   0.83809272 0.71145989 0.79376746 0.82305347 0.63836264\n",
            " 0.85284927 0.77057543 0.54315188 0.80871889 0.68354072 0.64975234\n",
            " 0.79105837 0.79543121 0.67587424 0.75547841 0.72479453 0.79880076\n",
            " 0.84124221 0.80904615 0.80933901 0.7689145  0.84248835 0.90737133\n",
            " 0.76750027 0.77084636 0.77886792 0.79995416 0.82377499 0.7138838\n",
            " 0.94254202 0.80903886 0.63089445 0.63920676 0.68126793 0.63089445\n",
            " 0.68952913 0.64595364 0.75339172 0.80845258 0.65079669 0.80860481\n",
            " 0.81915254 0.70581051 0.66009711 0.80871148 0.82843688 0.66169647\n",
            " 0.84815091 0.7492844  0.63089445 0.62273252 0.56635607 0.80872601\n",
            " 0.78208423 0.73730554 0.84373071 0.68402826 0.80668194 0.69459654\n",
            " 0.75089392 0.80856943 0.63089445 0.7978798  0.85934379 0.87949739\n",
            " 0.80874542 0.80905398 0.8673158  0.7758544  0.79995416 0.81512686\n",
            " 0.90221687 0.8134577  0.8414837  0.86461577 0.75667852 0.93071023\n",
            " 0.80640653 0.52467535 0.80894015 0.83250289 0.52635014 0.80341095\n",
            " 0.80828485 0.79766272 0.91241286 0.80913627 0.7990052  0.80868529\n",
            " 0.80868107 0.78558459 0.7750076  0.65745837 0.78325661 0.54782392\n",
            " 0.74948344 0.7219783  0.80938998 0.89764296 0.73288102 0.75017545\n",
            " 0.8257521  0.71139417 0.5740635  0.90781208 0.86310071 0.57867458\n",
            " 0.82921363 0.80918396 0.80923565 0.77984548 0.86224714 0.69206187\n",
            " 0.87101063 0.80154664 0.75863734 0.81324006 0.62899299 0.83406727\n",
            " 0.81594908 0.82866373 0.70644282 0.86857805 0.81858218 0.58834316\n",
            " 0.53573827 0.77567919 0.63215771 0.64356263 0.86888436 0.70410862\n",
            " 0.86904451 0.80896129 0.80356781 0.78116798 0.68899647 0.58449457\n",
            " 0.71733048 0.80922456 0.71477875 0.80914769 0.60154253 0.84894636\n",
            " 0.78821702 0.86854351 0.85992902 0.80937044 0.81976365 0.80897642\n",
            " 0.71839578 0.57596467 0.81342491 0.80880447 0.70372684 0.67454583\n",
            " 0.80872601 0.63958579 0.84241136 0.80894175 0.84645835 0.8276014\n",
            " 0.8402532  0.79294716 0.63896998 0.74482961 0.73482745 0.80869168\n",
            " 0.80914092 0.77688336 0.82626608 0.83152095 0.65950429 0.7480461\n",
            " 0.74226381 0.72762909 0.55261254 0.84742561 0.72902168 0.76911495\n",
            " 0.49731349 0.82479973 0.73820539 0.73338855 0.82250959 0.57824784\n",
            " 0.71252196 0.79266612 0.80890328 0.75729364 0.73900402 0.63865746\n",
            " 0.80820818 0.84298901 0.7975287  0.72599571 0.80909917 0.62167456\n",
            " 0.76424162 0.60287976 0.78701    0.89536107 0.78277574 0.76224216\n",
            " 0.80921751 0.52165721 0.78134158 0.77447145 0.6781802  0.67117245\n",
            " 0.84513153 0.71956    0.51942189 0.90015557 0.80034159 0.80870975\n",
            " 0.81708937 0.67806597 0.80630664 0.69609526 0.8405917  0.70813794\n",
            " 0.83970095 0.76480813 0.80899319 0.79088179 0.67319609 0.49878695\n",
            " 0.8433076  0.87055566 0.7880723  0.75285971 0.86403193 0.65563937\n",
            " 0.84708985 0.9508898  0.80890149 0.79181654 0.88937078 0.8228295\n",
            " 0.66911462 0.73129784 0.9208594  0.66285035 0.80711977 0.81145805\n",
            " 0.81819696 0.61144047 0.85719303 0.77687033 0.85072362 0.86214621\n",
            " 0.75028068 0.66928659 0.55349812 0.80036035 0.80843909 0.63089445\n",
            " 0.8627401  0.54733084 0.67367978 0.63804307 0.67279567 0.71749701\n",
            " 0.90299966 0.86258868 0.80899319 0.80858362 0.84601257 0.81618599\n",
            " 0.61710388 0.63823288 0.63433911 0.6552766  0.85717433 0.8090954\n",
            " 0.67175728 0.65326832 0.82376695 0.68884741 0.80926668 0.80376317\n",
            " 0.80881651 0.73488968 0.8654258  0.74623086 0.70956586 0.8102748\n",
            " 0.90627847 0.76850313 0.76803337 0.76870707 0.608761   0.7100329\n",
            " 0.82095891 0.82657512 0.80920595 0.53682554 0.79944658 0.81706095\n",
            " 0.80962801 0.82911196 0.55337456 0.72014654 0.82269869 0.7346845\n",
            " 0.61645487 0.55254146 0.83815696 0.85125969 0.80935598 0.82280591\n",
            " 0.7468557  0.75325887 0.5835322  0.80890586 0.81943588 0.84026305\n",
            " 0.61270823 0.89007293 0.69457415 0.79457113 0.88856465 0.84716722\n",
            " 0.85659882 0.88869253 0.63821929 0.89993494 0.80905508 0.83524789\n",
            " 0.80868962 0.79276228 0.67336982 0.80890823 0.8084732  0.80897376\n",
            " 0.55838111 0.79869454 0.74650381 0.7141215  0.58422327 0.89493265\n",
            " 0.8373871  0.80875329 0.84738125 0.75403114 0.59994653 0.8085759\n",
            " 0.9072889  0.83221496 0.82417531 0.46479138 0.7931579  0.73697279\n",
            " 0.71590082 0.75172653 0.7042399  0.80887106 0.80916913 0.8166667\n",
            " 0.72815484 0.79059205 0.54149475 0.71274098 0.85959707 0.85106008\n",
            " 0.79806272 0.72347129 0.85970491 0.80852669 0.60954151 0.6604872\n",
            " 0.80875054 0.71869509 0.78475536 0.69274935 0.65581262 0.73174228\n",
            " 0.7681764  0.82793218 0.86918945 0.80855683 0.82368571 0.74781214\n",
            " 0.81618599 0.62633656 0.81091297 0.75245884 0.80903923 0.80875652\n",
            " 0.66399038 0.58164553 0.84427755 0.7096875  0.83845075 0.69419989\n",
            " 0.73086363 0.81857442 0.71567348 0.90725456 0.8832385  0.89560619\n",
            " 0.82935921 0.69823734 0.86480545 0.57641723 0.67404138 0.79780231\n",
            " 0.75526909 0.5967025  0.58358512 0.89406747 0.83335803 0.80871462\n",
            " 0.85493257 0.63089445 0.86891861 0.62883991 0.65257277 0.82961799\n",
            " 0.58345429 0.63089445 0.83224278 0.80885047 0.6319595  0.87489265\n",
            " 0.75821407 0.62841637 0.87824607 0.76110949 0.75646409 0.80889986\n",
            " 0.80882652 0.6661661  0.80889806 0.78601295 0.79247797 0.74697871\n",
            " 0.66236255 0.67691868 0.67703986 0.71758017 0.67526656 0.85872178\n",
            " 0.43762296 0.80980152 0.71219692 0.80910191 0.65137428 0.78316289\n",
            " 0.7380584  0.82913787 0.92170242 0.80930512 0.78234249 0.84310272\n",
            " 0.7992186  0.88488227 0.86540454 0.72841437 0.80907114 0.61674025\n",
            " 0.79042277 0.69851471 0.79670825 0.69498252 0.73883948 0.80858152\n",
            " 0.80901934 0.8001943  0.74949006 0.83839778 0.8347694  0.85934379\n",
            " 0.80683776 0.9174986  0.80935419 0.64360982 0.8086708  0.8133868\n",
            " 0.76808488 0.80907537 0.80862679 0.80043317 0.82280693 0.87672511\n",
            " 0.73139417 0.71015655 0.79434195 0.65621908 0.82730816 0.83253135\n",
            " 0.83625523 0.80864666 0.76552514 0.75808624 0.77561865 0.6330452\n",
            " 0.75757147 0.87323539 0.83974175 0.75847202 0.82361746 0.66615898\n",
            " 0.83178298 0.83799563 0.68583534 0.67124249 0.51194497 0.6863954\n",
            " 0.79098175 0.74886171 0.81385703 0.88035163 0.64647931 0.82450556\n",
            " 0.56290981 0.74447916 0.8085544  0.80090446 0.72990466 0.89308294\n",
            " 0.83579671 0.63089445 0.8769198  0.74384762 0.64922749 0.76418061\n",
            " 0.92648899 0.80929477 0.70989018 0.80918627 0.72640211 0.60181573\n",
            " 0.6598296  0.55032047 0.7515672  0.7607353  0.84788052 0.78086574\n",
            " 0.63089445 0.84267459 0.84610916 0.82812447 0.94670053 0.82464773\n",
            " 0.64468119 0.72155067 0.64136264 0.8839539  0.63775597 0.63840966\n",
            " 0.71114108 0.82875611 0.80916503 0.80842737 0.80942387 0.79409833\n",
            " 0.61851442 0.99141595 0.86103665 0.69617875 0.63090957 0.61678777\n",
            " 0.77360145 0.60677333 0.80906495 0.81432572 0.77660058 0.82737138\n",
            " 0.64716491 0.80852271 0.77185057 0.89563056 0.86969978 0.84429853\n",
            " 0.68225877 0.6253797  0.84411049 0.72965784 0.71868235 0.693767\n",
            " 0.77433718 0.55949278 0.69353961 0.83043468 0.77526002 0.72929689\n",
            " 0.76418061 0.80923847 0.76634915 0.80868664 0.61345674 0.66139174\n",
            " 0.80913015 0.68166152 0.70836385 0.706553   0.80854381 0.87161728\n",
            " 0.66654476 0.79107672 0.82978068 0.7642117  0.7784303  0.82106147\n",
            " 0.83448495 0.86315221 0.80875194 0.83940564 0.88316229 0.63890274\n",
            " 0.80868529 0.8640534  0.77292973 0.61257785 0.7132508  0.84273374\n",
            " 0.80862495 0.80876039 0.83991065 0.60622271 0.79400037 0.85763444\n",
            " 0.44160759 0.81645162 0.78624913 0.60137247 0.53625446 0.9346646\n",
            " 0.80870975 0.81882607 0.76581261 0.63089445 0.77827736 0.83656207\n",
            " 0.75498139 0.88403959 0.91961475 0.72085995 0.7301503  0.8086737\n",
            " 0.83338762 0.66302505 0.59572119 0.77611972 0.80874208 0.91560945\n",
            " 0.8153572  0.8431976  0.82209811 0.78294534 0.90978407 0.80683776\n",
            " 0.79036848 0.52241012 0.67303831 0.70629335 0.69185029 0.69338019\n",
            " 0.82626608 0.77751927 0.80875243 0.73762622 0.88610437 0.69598007\n",
            " 0.78067242 0.74432531 0.65201492 0.80910082 0.76367014 0.60334313\n",
            " 0.84815434 0.8685199  0.68556371 0.77876343 0.72149647 0.84783578\n",
            " 0.56504816 0.68411572 0.72043795 0.83086838 0.81783087 0.6149564\n",
            " 0.84686498 0.8578366  0.85546171 0.80871556 0.60917459 0.82133355\n",
            " 0.83811856 0.80902112 0.75090604 0.80877531 0.78230843 0.76124704\n",
            " 0.68198806 0.80895334 0.70684607 0.75609362 0.8091793  0.81292662\n",
            " 0.88576077 0.78137948 0.70214506 0.80872672 0.75168671 0.85635\n",
            " 0.68762295 0.79773174 0.71250838 0.80875054 0.80960196 0.80884431\n",
            " 0.80878408 0.74783337 0.7679923  0.63089445 0.79027675 0.80986858\n",
            " 0.76285331 0.80870683 0.79189401 0.80875652 0.80436478 0.7809138\n",
            " 0.73390552 0.78879453 0.81830216 0.80876203 0.72548992 0.78515734\n",
            " 0.79498642 0.7219783  0.87308949 0.75859487 0.87260425 0.60549562\n",
            " 0.78527793 0.8084878  0.80897642 0.79780482 0.76527986 0.8085478\n",
            " 0.62544492 0.68706895 0.67269498 0.82342185 0.69367787 0.58425785\n",
            " 0.63089445 0.69504043 0.8630393  0.84587002 0.82283899 0.76939696\n",
            " 0.70162061 0.73131245 0.76478514 0.63089445 0.80883399 0.80269655\n",
            " 0.61327659 0.79064524 0.72049406 0.80894405 0.59891311 0.80937071\n",
            " 0.63158493 0.8822013  0.80919548 0.74382827]\n"
          ],
          "name": "stdout"
        },
        {
          "output_type": "display_data",
          "data": {
            "image/png": "[encoded data removed]",
            "text/plain": [
              "<Figure size 432x288 with 1 Axes>"
            ]
          },
          "metadata": {
            "tags": [],
            "needs_background": "light"
          }
        },
        {
          "output_type": "stream",
          "text": [
            "Acurácia: 0.664\n",
            "Recall: [0.97682119 0.5286533 ]\n",
            "Precisão: [0.47275641 0.98138298]\n",
            "F1-Score: 0.6871508379888268\n"
          ],
          "name": "stdout"
        }
      ]
    }
  ]
}